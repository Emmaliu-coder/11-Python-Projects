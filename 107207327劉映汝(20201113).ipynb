{
  "nbformat": 4,
  "nbformat_minor": 0,
  "metadata": {
    "colab": {
      "name": "107207327劉映汝.ipynb",
      "provenance": [],
      "collapsed_sections": [],
      "toc_visible": true
    },
    "kernelspec": {
      "display_name": "Python 3",
      "name": "python3"
    }
  },
  "cells": [
    {
      "cell_type": "markdown",
      "metadata": {
        "id": "HBjSuaPzNlwD"
      },
      "source": [
        "# 2020.11.13 流程控制"
      ]
    },
    {
      "cell_type": "markdown",
      "metadata": {
        "id": "2Amz56YDrWKM"
      },
      "source": [
        "[Python 教學](https://docs.python.org/zh-tw/3.9/tutorial/index.html)"
      ]
    },
    {
      "cell_type": "markdown",
      "metadata": {
        "id": "0UKQqf56Nubl"
      },
      "source": [
        "\n",
        "\n",
        "## 01 For Loop"
      ]
    },
    {
      "cell_type": "markdown",
      "metadata": {
        "id": "J4N0ETpuNy0l"
      },
      "source": [
        "### 1.1 For Loop 基本架構"
      ]
    },
    {
      "cell_type": "code",
      "metadata": {
        "id": "5H1qlSC3bWnO",
        "colab": {
          "base_uri": "https://localhost:8080/"
        },
        "outputId": "828aee03-4119-41cb-edf4-0a21dcf1cf2d"
      },
      "source": [
        "for i in range(5):  #0,1,2,3,4\n",
        "  print(i)"
      ],
      "execution_count": null,
      "outputs": [
        {
          "output_type": "stream",
          "text": [
            "0\n",
            "1\n",
            "2\n",
            "3\n",
            "4\n"
          ],
          "name": "stdout"
        }
      ]
    },
    {
      "cell_type": "code",
      "metadata": {
        "id": "iylDncPybeFh",
        "colab": {
          "base_uri": "https://localhost:8080/"
        },
        "outputId": "612a80f9-deb5-45f3-8d8c-a30f877f423a"
      },
      "source": [
        "for i in range(5):  #0,1,2,3,4  #即為(0,5)\n",
        "  print(i*2 + 2)"
      ],
      "execution_count": null,
      "outputs": [
        {
          "output_type": "stream",
          "text": [
            "2\n",
            "4\n",
            "6\n",
            "8\n",
            "10\n"
          ],
          "name": "stdout"
        }
      ]
    },
    {
      "cell_type": "code",
      "metadata": {
        "id": "9GkiVF0hbecl",
        "colab": {
          "base_uri": "https://localhost:8080/"
        },
        "outputId": "4b7f54c2-143d-4548-f3eb-7444e0588c91"
      },
      "source": [
        "for i in range(5):  #0,1,2,3,4(共5次)\n",
        "  print(\"Hello\")"
      ],
      "execution_count": null,
      "outputs": [
        {
          "output_type": "stream",
          "text": [
            "Hello\n",
            "Hello\n",
            "Hello\n",
            "Hello\n",
            "Hello\n"
          ],
          "name": "stdout"
        }
      ]
    },
    {
      "cell_type": "markdown",
      "metadata": {
        "id": "ZxdTlrS_aiDu"
      },
      "source": [
        "### 1.2 LaTex 語法"
      ]
    },
    {
      "cell_type": "markdown",
      "metadata": {
        "id": "eCuwENEda2uT"
      },
      "source": [
        "計算 $\\sum_{n=1}^{1000}(3n-2)$ "
      ]
    },
    {
      "cell_type": "code",
      "metadata": {
        "id": "-pIPHKKfrO7j"
      },
      "source": [
        "# $\\sum_{n=1}^{1000}(3n-2)$"
      ],
      "execution_count": null,
      "outputs": []
    },
    {
      "cell_type": "code",
      "metadata": {
        "id": "0jHXqEgOclGU",
        "colab": {
          "base_uri": "https://localhost:8080/"
        },
        "outputId": "f613cdd2-02f1-4f10-8f0e-6c9708f0413c"
      },
      "source": [
        "S = 0\n",
        "for n in range(1,1001):\n",
        "  S += 3*n - 2     #連加\n",
        "print(S)"
      ],
      "execution_count": null,
      "outputs": [
        {
          "output_type": "stream",
          "text": [
            "1499500\n"
          ],
          "name": "stdout"
        }
      ]
    },
    {
      "cell_type": "markdown",
      "metadata": {
        "id": "Er3x1N0fdFXL"
      },
      "source": [
        "請計算 $\\sum_{n=1}^{15} (2n^2-7n+8)$"
      ]
    },
    {
      "cell_type": "code",
      "metadata": {
        "id": "lzvAvSnzt1NV"
      },
      "source": [
        "# $\\sum_{n=1}^{15} (2n^2-7n+8)$"
      ],
      "execution_count": null,
      "outputs": []
    },
    {
      "cell_type": "code",
      "metadata": {
        "id": "7XSJ59xqdEXp",
        "colab": {
          "base_uri": "https://localhost:8080/"
        },
        "outputId": "62cd68d6-c675-433c-9aa1-e704a31dd3cd"
      },
      "source": [
        "S = 0\n",
        "for n in range(1,16):\n",
        "  S += (2*n**2 - 7*n +8)\n",
        "print(S)"
      ],
      "execution_count": null,
      "outputs": [
        {
          "output_type": "stream",
          "text": [
            "1760\n"
          ],
          "name": "stdout"
        }
      ]
    },
    {
      "cell_type": "markdown",
      "metadata": {
        "id": "wnYUzstmfULF"
      },
      "source": [
        "請計算 $\\prod_{n=1}^{10} (2n+1)$   "
      ]
    },
    {
      "cell_type": "code",
      "metadata": {
        "id": "-nmhBtK2fXBE",
        "colab": {
          "base_uri": "https://localhost:8080/"
        },
        "outputId": "00869280-e528-4381-81de-481d863d8df7"
      },
      "source": [
        "S = 1           #是連乘所以可以從1開始\n",
        "for n in range(1,11):\n",
        "  S *= 2*n + 1     #連乘 *=\n",
        "print(S)"
      ],
      "execution_count": null,
      "outputs": [
        {
          "output_type": "stream",
          "text": [
            "13749310575\n"
          ],
          "name": "stdout"
        }
      ]
    },
    {
      "cell_type": "markdown",
      "metadata": {
        "id": "sMqJr650g_ex"
      },
      "source": [
        "### 1.3 串列 [  ]"
      ]
    },
    {
      "cell_type": "code",
      "metadata": {
        "id": "3VW2X3wggqMx",
        "colab": {
          "base_uri": "https://localhost:8080/"
        },
        "outputId": "561a25a4-e2d8-42ef-99ec-0b0367fc54f3"
      },
      "source": [
        "a = ['a','b','c','d','e','f']\n",
        "b = [20,21,22,23,24,25]\n",
        "for i in range(6):                #0,1,2,3,4,5\n",
        "  print(a[i]+' is '+str(b[i])+' years old')  #Print只能放同類資料(所以要用str轉)"
      ],
      "execution_count": null,
      "outputs": [
        {
          "output_type": "stream",
          "text": [
            "a is 20 years old\n",
            "b is 21 years old\n",
            "c is 22 years old\n",
            "d is 23 years old\n",
            "e is 24 years old\n",
            "f is 25 years old\n"
          ],
          "name": "stdout"
        }
      ]
    },
    {
      "cell_type": "code",
      "metadata": {
        "id": "FGh4mJq0iy8V",
        "colab": {
          "base_uri": "https://localhost:8080/"
        },
        "outputId": "e7089601-ec34-44c9-b2c8-69e6171683a0"
      },
      "source": [
        "for name in a:  #為資料命名變數(所有a值為name)\n",
        "  print(name)"
      ],
      "execution_count": null,
      "outputs": [
        {
          "output_type": "stream",
          "text": [
            "a\n",
            "b\n",
            "c\n",
            "d\n",
            "e\n",
            "f\n"
          ],
          "name": "stdout"
        }
      ]
    },
    {
      "cell_type": "code",
      "metadata": {
        "id": "UdgOO5NqmIGQ",
        "colab": {
          "base_uri": "https://localhost:8080/"
        },
        "outputId": "c39c653f-dd92-4d6c-ea92-20f4142295ae"
      },
      "source": [
        "for age in b:\n",
        "  print(age)"
      ],
      "execution_count": null,
      "outputs": [
        {
          "output_type": "stream",
          "text": [
            "20\n",
            "21\n",
            "22\n",
            "23\n",
            "24\n",
            "25\n"
          ],
          "name": "stdout"
        }
      ]
    },
    {
      "cell_type": "markdown",
      "metadata": {
        "id": "PA2AACmL5_tg"
      },
      "source": [
        "** 找到其在字串對應值 將值給i\n"
      ]
    },
    {
      "cell_type": "code",
      "metadata": {
        "id": "9VpKVDvei9CA",
        "colab": {
          "base_uri": "https://localhost:8080/"
        },
        "outputId": "88c6bd60-0b4d-486d-f489-b3b21cdf8303"
      },
      "source": [
        "for name in a:\n",
        "  i = a.index(name)             #在a裡面找到name各自對應index    \n",
        "  print( name +' is ' + str(b[i]) + ' years old.')"
      ],
      "execution_count": null,
      "outputs": [
        {
          "output_type": "stream",
          "text": [
            "a is 20 years old.\n",
            "b is 21 years old.\n",
            "c is 22 years old.\n",
            "d is 23 years old.\n",
            "e is 24 years old.\n",
            "f is 25 years old.\n"
          ],
          "name": "stdout"
        }
      ]
    },
    {
      "cell_type": "markdown",
      "metadata": {
        "id": "gP_Eu1Z1ohqB"
      },
      "source": [
        "** 由年紀小到大輸出"
      ]
    },
    {
      "cell_type": "code",
      "metadata": {
        "id": "S3VciN-MmZA8",
        "colab": {
          "base_uri": "https://localhost:8080/"
        },
        "outputId": "4011754c-3363-449e-ceac-0776b5e3fece"
      },
      "source": [
        "c = b.copy()                    #把b元素copy下來放入c\n",
        "c.sort()                       #由小排到大\n",
        "for age in c:\n",
        "  i = b.index(age)                \n",
        "  print( a[i] + ' is ' + str(b[i]) + ' years old.')"
      ],
      "execution_count": null,
      "outputs": [
        {
          "output_type": "stream",
          "text": [
            "a is 20 years old.\n",
            "b is 21 years old.\n",
            "c is 22 years old.\n",
            "d is 23 years old.\n",
            "e is 24 years old.\n",
            "f is 25 years old.\n"
          ],
          "name": "stdout"
        }
      ]
    },
    {
      "cell_type": "markdown",
      "metadata": {
        "id": "3vZYqAlDohzu"
      },
      "source": [
        "** 由年紀大到小輸出"
      ]
    },
    {
      "cell_type": "code",
      "metadata": {
        "id": "YtgVBPtpmnIj",
        "colab": {
          "base_uri": "https://localhost:8080/"
        },
        "outputId": "3bee8273-ca4d-4759-a40f-762c0f1f3717"
      },
      "source": [
        "c = b.copy()\n",
        "c.sort()                       \n",
        "c.reverse()                      #轉置矩陣\n",
        "for age in c:\n",
        "  i = b.index(age)\n",
        "  print(a[i]+' is '+str(b[i])+' years old.')"
      ],
      "execution_count": null,
      "outputs": [
        {
          "output_type": "stream",
          "text": [
            "f is 25 years old.\n",
            "e is 24 years old.\n",
            "d is 23 years old.\n",
            "c is 22 years old.\n",
            "b is 21 years old.\n",
            "a is 20 years old.\n"
          ],
          "name": "stdout"
        }
      ]
    },
    {
      "cell_type": "markdown",
      "metadata": {
        "id": "L1qf8_vKoxQX"
      },
      "source": [
        "### 1.4 多重迴圈"
      ]
    },
    {
      "cell_type": "code",
      "metadata": {
        "id": "h9fz93aApIhM",
        "colab": {
          "base_uri": "https://localhost:8080/"
        },
        "outputId": "4260092e-b98a-4382-e380-8390e7ad79c6"
      },
      "source": [
        "for i in range(3):      #0,1,2\n",
        "  for j in range(2):    #0,1\n",
        "    print(i,j)"
      ],
      "execution_count": null,
      "outputs": [
        {
          "output_type": "stream",
          "text": [
            "0 0\n",
            "0 1\n",
            "1 0\n",
            "1 1\n",
            "2 0\n",
            "2 1\n"
          ],
          "name": "stdout"
        }
      ]
    },
    {
      "cell_type": "code",
      "metadata": {
        "id": "DdbqaHLRpiVN",
        "colab": {
          "base_uri": "https://localhost:8080/"
        },
        "outputId": "a807d05a-db21-438d-f792-d8da7c4aa74c"
      },
      "source": [
        "for i in range(4,6):    #4,5\n",
        "  for j in range(2,4):  #2,3\n",
        "    print(i,j)"
      ],
      "execution_count": null,
      "outputs": [
        {
          "output_type": "stream",
          "text": [
            "4 2\n",
            "4 3\n",
            "5 2\n",
            "5 3\n"
          ],
          "name": "stdout"
        }
      ]
    },
    {
      "cell_type": "markdown",
      "metadata": {
        "id": "9E6HAZFfpvLU"
      },
      "source": [
        "三個迴圈"
      ]
    },
    {
      "cell_type": "code",
      "metadata": {
        "id": "Ttv5amflpuzn",
        "colab": {
          "base_uri": "https://localhost:8080/"
        },
        "outputId": "84abb634-4018-4c44-bda7-dc22a6a326ff"
      },
      "source": [
        "for i in range(4,6):      #4,5\n",
        "  for j in range(2,4):    #2,3\n",
        "    for k in range(1,3):  #1,2\n",
        "      print(i,j,k)"
      ],
      "execution_count": null,
      "outputs": [
        {
          "output_type": "stream",
          "text": [
            "4 2 1\n",
            "4 2 2\n",
            "4 3 1\n",
            "4 3 2\n",
            "5 2 1\n",
            "5 2 2\n",
            "5 3 1\n",
            "5 3 2\n"
          ],
          "name": "stdout"
        }
      ]
    },
    {
      "cell_type": "markdown",
      "metadata": {
        "id": "tC6z3dFfqWid"
      },
      "source": [
        "** pass ( print 不 indent之情況下 )"
      ]
    },
    {
      "cell_type": "code",
      "metadata": {
        "id": "5q8y6kBHqWFr",
        "colab": {
          "base_uri": "https://localhost:8080/"
        },
        "outputId": "1ed944a7-dc20-4db1-bac8-08469550c303"
      },
      "source": [
        "for i in range(4,6):      #4,5\n",
        "  for j in range(2,4):    #2,3\n",
        "    for k in range(1,3):  #1,2\n",
        "      pass\n",
        "    print(i,j,k)"
      ],
      "execution_count": null,
      "outputs": [
        {
          "output_type": "stream",
          "text": [
            "4 2 2\n",
            "4 3 2\n",
            "5 2 2\n",
            "5 3 2\n"
          ],
          "name": "stdout"
        }
      ]
    },
    {
      "cell_type": "markdown",
      "metadata": {
        "id": "oeYak40wrkeG"
      },
      "source": [
        "輸入99乘法表"
      ]
    },
    {
      "cell_type": "code",
      "metadata": {
        "id": "7aR2acm2rkEb",
        "colab": {
          "base_uri": "https://localhost:8080/"
        },
        "outputId": "690e6d71-984a-4905-e5ae-2455521ec546"
      },
      "source": [
        "for i in range(1,10):          #1,2,3,4,5,6,7,8,9\n",
        "  for j in range(1,10):        #1,2,3,4,5,6,7,8,9\n",
        "    print(str(i) + '*' + str(j) + ' = ' + str(i * j))  #要用字串連結(int不行)"
      ],
      "execution_count": null,
      "outputs": [
        {
          "output_type": "stream",
          "text": [
            "1*1 = 1\n",
            "1*2 = 2\n",
            "1*3 = 3\n",
            "1*4 = 4\n",
            "1*5 = 5\n",
            "1*6 = 6\n",
            "1*7 = 7\n",
            "1*8 = 8\n",
            "1*9 = 9\n",
            "2*1 = 2\n",
            "2*2 = 4\n",
            "2*3 = 6\n",
            "2*4 = 8\n",
            "2*5 = 10\n",
            "2*6 = 12\n",
            "2*7 = 14\n",
            "2*8 = 16\n",
            "2*9 = 18\n",
            "3*1 = 3\n",
            "3*2 = 6\n",
            "3*3 = 9\n",
            "3*4 = 12\n",
            "3*5 = 15\n",
            "3*6 = 18\n",
            "3*7 = 21\n",
            "3*8 = 24\n",
            "3*9 = 27\n",
            "4*1 = 4\n",
            "4*2 = 8\n",
            "4*3 = 12\n",
            "4*4 = 16\n",
            "4*5 = 20\n",
            "4*6 = 24\n",
            "4*7 = 28\n",
            "4*8 = 32\n",
            "4*9 = 36\n",
            "5*1 = 5\n",
            "5*2 = 10\n",
            "5*3 = 15\n",
            "5*4 = 20\n",
            "5*5 = 25\n",
            "5*6 = 30\n",
            "5*7 = 35\n",
            "5*8 = 40\n",
            "5*9 = 45\n",
            "6*1 = 6\n",
            "6*2 = 12\n",
            "6*3 = 18\n",
            "6*4 = 24\n",
            "6*5 = 30\n",
            "6*6 = 36\n",
            "6*7 = 42\n",
            "6*8 = 48\n",
            "6*9 = 54\n",
            "7*1 = 7\n",
            "7*2 = 14\n",
            "7*3 = 21\n",
            "7*4 = 28\n",
            "7*5 = 35\n",
            "7*6 = 42\n",
            "7*7 = 49\n",
            "7*8 = 56\n",
            "7*9 = 63\n",
            "8*1 = 8\n",
            "8*2 = 16\n",
            "8*3 = 24\n",
            "8*4 = 32\n",
            "8*5 = 40\n",
            "8*6 = 48\n",
            "8*7 = 56\n",
            "8*8 = 64\n",
            "8*9 = 72\n",
            "9*1 = 9\n",
            "9*2 = 18\n",
            "9*3 = 27\n",
            "9*4 = 36\n",
            "9*5 = 45\n",
            "9*6 = 54\n",
            "9*7 = 63\n",
            "9*8 = 72\n",
            "9*9 = 81\n"
          ],
          "name": "stdout"
        }
      ]
    },
    {
      "cell_type": "code",
      "metadata": {
        "id": "ujjBTAnct6Qv",
        "colab": {
          "base_uri": "https://localhost:8080/"
        },
        "outputId": "b5dbedd0-fd74-4201-d090-a8efbdea9341"
      },
      "source": [
        "for i in range(1,10):          #1,2,3,4,5,6,7,8,9\n",
        "  for j in range(1,10):        #1,2,3,4,5,6,7,8,9\n",
        "    p = i * j\n",
        "    print('%d*%d = %d' %(i,j,p), end=\" \")"
      ],
      "execution_count": null,
      "outputs": [
        {
          "output_type": "stream",
          "text": [
            "1*1 = 1 1*2 = 2 1*3 = 3 1*4 = 4 1*5 = 5 1*6 = 6 1*7 = 7 1*8 = 8 1*9 = 9 2*1 = 2 2*2 = 4 2*3 = 6 2*4 = 8 2*5 = 10 2*6 = 12 2*7 = 14 2*8 = 16 2*9 = 18 3*1 = 3 3*2 = 6 3*3 = 9 3*4 = 12 3*5 = 15 3*6 = 18 3*7 = 21 3*8 = 24 3*9 = 27 4*1 = 4 4*2 = 8 4*3 = 12 4*4 = 16 4*5 = 20 4*6 = 24 4*7 = 28 4*8 = 32 4*9 = 36 5*1 = 5 5*2 = 10 5*3 = 15 5*4 = 20 5*5 = 25 5*6 = 30 5*7 = 35 5*8 = 40 5*9 = 45 6*1 = 6 6*2 = 12 6*3 = 18 6*4 = 24 6*5 = 30 6*6 = 36 6*7 = 42 6*8 = 48 6*9 = 54 7*1 = 7 7*2 = 14 7*3 = 21 7*4 = 28 7*5 = 35 7*6 = 42 7*7 = 49 7*8 = 56 7*9 = 63 8*1 = 8 8*2 = 16 8*3 = 24 8*4 = 32 8*5 = 40 8*6 = 48 8*7 = 56 8*8 = 64 8*9 = 72 9*1 = 9 9*2 = 18 9*3 = 27 9*4 = 36 9*5 = 45 9*6 = 54 9*7 = 63 9*8 = 72 9*9 = 81 "
          ],
          "name": "stdout"
        }
      ]
    },
    {
      "cell_type": "markdown",
      "metadata": {
        "id": "OlsCjYLuuglf"
      },
      "source": [
        "請列出 n! ，其中 $n=2,\\dots,30$"
      ]
    },
    {
      "cell_type": "code",
      "metadata": {
        "id": "ViCnpH-TugLw",
        "colab": {
          "base_uri": "https://localhost:8080/"
        },
        "outputId": "f8fbc7f5-d824-4692-b71e-6702c499875d"
      },
      "source": [
        "for n in range(2,31):      #2,3,4,.....30\n",
        "  s = 1\n",
        "  for i in range(1,n+1):    #3,4,5,...31\n",
        "    s *= i          # *= 連乘\n",
        "  print(str(n)+'!= ' + str(s))"
      ],
      "execution_count": null,
      "outputs": [
        {
          "output_type": "stream",
          "text": [
            "2!= 2\n",
            "3!= 6\n",
            "4!= 24\n",
            "5!= 120\n",
            "6!= 720\n",
            "7!= 5040\n",
            "8!= 40320\n",
            "9!= 362880\n",
            "10!= 3628800\n",
            "11!= 39916800\n",
            "12!= 479001600\n",
            "13!= 6227020800\n",
            "14!= 87178291200\n",
            "15!= 1307674368000\n",
            "16!= 20922789888000\n",
            "17!= 355687428096000\n",
            "18!= 6402373705728000\n",
            "19!= 121645100408832000\n",
            "20!= 2432902008176640000\n",
            "21!= 51090942171709440000\n",
            "22!= 1124000727777607680000\n",
            "23!= 25852016738884976640000\n",
            "24!= 620448401733239439360000\n",
            "25!= 15511210043330985984000000\n",
            "26!= 403291461126605635584000000\n",
            "27!= 10888869450418352160768000000\n",
            "28!= 304888344611713860501504000000\n",
            "29!= 8841761993739701954543616000000\n",
            "30!= 265252859812191058636308480000000\n"
          ],
          "name": "stdout"
        }
      ]
    },
    {
      "cell_type": "markdown",
      "metadata": {
        "id": "cZX6jh8XZ5PQ"
      },
      "source": [
        "## 02 While Loop"
      ]
    },
    {
      "cell_type": "markdown",
      "metadata": {
        "id": "HwI_SxCh0WTw"
      },
      "source": [
        "### 2.1 While Loop 基本架構\n",
        " "
      ]
    },
    {
      "cell_type": "markdown",
      "metadata": {
        "id": "BZG-kfJ8eeSZ"
      },
      "source": [
        "> While Loop 架構\n",
        "```\n",
        "while (expression):\n",
        "  statement\n",
        "```"
      ]
    },
    {
      "cell_type": "code",
      "metadata": {
        "id": "HLGhQh5T0Vy4",
        "colab": {
          "base_uri": "https://localhost:8080/"
        },
        "outputId": "bf45ec63-b201-4cae-d8db-0ce042cc5204"
      },
      "source": [
        "i = 0\n",
        "while i < 4:\n",
        "  print(i)\n",
        "  i+=1"
      ],
      "execution_count": null,
      "outputs": [
        {
          "output_type": "stream",
          "text": [
            "0\n",
            "1\n",
            "2\n",
            "3\n"
          ],
          "name": "stdout"
        }
      ]
    },
    {
      "cell_type": "markdown",
      "metadata": {
        "id": "XzSwXdRveadi"
      },
      "source": [
        "布林值"
      ]
    },
    {
      "cell_type": "code",
      "metadata": {
        "id": "wRPmvOZtNc1_",
        "colab": {
          "base_uri": "https://localhost:8080/"
        },
        "outputId": "237904bd-a7c1-4682-eb2d-6a0ecd09dd70"
      },
      "source": [
        "i = 4\n",
        "i < 9"
      ],
      "execution_count": null,
      "outputs": [
        {
          "output_type": "execute_result",
          "data": {
            "text/plain": [
              "True"
            ]
          },
          "metadata": {
            "tags": []
          },
          "execution_count": 18
        }
      ]
    },
    {
      "cell_type": "markdown",
      "metadata": {
        "id": "HOJYErbm18HT"
      },
      "source": [
        "### 2.2 For 迴圈的程式改成用 While 迴圈表示"
      ]
    },
    {
      "cell_type": "code",
      "metadata": {
        "id": "EHiduoXG1U9W",
        "colab": {
          "base_uri": "https://localhost:8080/"
        },
        "outputId": "ec6827c7-fd89-4c9a-e7e4-d696c89bc2e5"
      },
      "source": [
        "# Ex.1 將1~29分別帶入式子並加總\n",
        "S = 0\n",
        "for n in range(1,30):\n",
        "  S+= 2*n**2-7*n-2\n",
        "print(S)"
      ],
      "execution_count": null,
      "outputs": [
        {
          "output_type": "stream",
          "text": [
            "14007\n"
          ],
          "name": "stdout"
        }
      ]
    },
    {
      "cell_type": "code",
      "metadata": {
        "id": "TxZ13_y6198-",
        "colab": {
          "base_uri": "https://localhost:8080/"
        },
        "outputId": "459a7bc5-2ab6-43de-aef4-f11dd221dba1"
      },
      "source": [
        "s = 0\n",
        "i = 1\n",
        "while i < 30:\n",
        "  s += 2*i**2 - 7*i - 2\n",
        "  i += 1\n",
        "print(s)"
      ],
      "execution_count": null,
      "outputs": [
        {
          "output_type": "stream",
          "text": [
            "14007\n"
          ],
          "name": "stdout"
        }
      ]
    },
    {
      "cell_type": "code",
      "metadata": {
        "id": "fmI4RCk13ELu",
        "colab": {
          "base_uri": "https://localhost:8080/"
        },
        "outputId": "0c1dcb6c-432f-4529-af29-730efd0074ab"
      },
      "source": [
        "# Ex.2 將1~19分別帶入式子並加總\n",
        "S = 1\n",
        "for i in range(1,20):\n",
        "  S*=i\n",
        "print(S)"
      ],
      "execution_count": null,
      "outputs": [
        {
          "output_type": "stream",
          "text": [
            "121645100408832000\n"
          ],
          "name": "stdout"
        }
      ]
    },
    {
      "cell_type": "markdown",
      "metadata": {
        "id": "BBD9-KmHhhWb"
      },
      "source": [
        "(My Solution)"
      ]
    },
    {
      "cell_type": "code",
      "metadata": {
        "colab": {
          "base_uri": "https://localhost:8080/"
        },
        "id": "_649mvwlg8lf",
        "outputId": "945a5d35-2fdd-4847-b788-3aef3f43b058"
      },
      "source": [
        "S = 1\n",
        "i = 1\n",
        "while i < 20:\n",
        "  S *= i\n",
        "  i += 1\n",
        "print(S)"
      ],
      "execution_count": null,
      "outputs": [
        {
          "output_type": "stream",
          "text": [
            "121645100408832000\n"
          ],
          "name": "stdout"
        }
      ]
    },
    {
      "cell_type": "markdown",
      "metadata": {
        "id": "rG3HFJCSheWz"
      },
      "source": [
        "(老師解法)"
      ]
    },
    {
      "cell_type": "code",
      "metadata": {
        "id": "WfYMAv4l429J",
        "colab": {
          "base_uri": "https://localhost:8080/"
        },
        "outputId": "91418d76-6dc8-4d19-993c-6579da270bd4"
      },
      "source": [
        "S = 1\n",
        "i = 0\n",
        "while i < 19:\n",
        "  i += 1\n",
        "  S *= i\n",
        "print(S)"
      ],
      "execution_count": null,
      "outputs": [
        {
          "output_type": "stream",
          "text": [
            "121645100408832000\n"
          ],
          "name": "stdout"
        }
      ]
    },
    {
      "cell_type": "markdown",
      "metadata": {
        "id": "s85bT8ff6Idf"
      },
      "source": [
        "請列出273845 的所有因數"
      ]
    },
    {
      "cell_type": "code",
      "metadata": {
        "id": "qHORo3Mi6JCg",
        "colab": {
          "base_uri": "https://localhost:8080/"
        },
        "outputId": "f74ba986-826b-42f4-ff0e-6946a7afdcc0"
      },
      "source": [
        "n = 273845\n",
        "i = 1\n",
        "for i in range(1,n+1):\n",
        "  if (n % i == 0):\n",
        "    print(str(i) + ' 為其因數')\n",
        "  i =+ 1"
      ],
      "execution_count": null,
      "outputs": [
        {
          "output_type": "stream",
          "text": [
            "1 為其因數\n",
            "5 為其因數\n",
            "11 為其因數\n",
            "13 為其因數\n",
            "55 為其因數\n",
            "65 為其因數\n",
            "143 為其因數\n",
            "383 為其因數\n",
            "715 為其因數\n",
            "1915 為其因數\n",
            "4213 為其因數\n",
            "4979 為其因數\n",
            "21065 為其因數\n",
            "24895 為其因數\n",
            "54769 為其因數\n",
            "273845 為其因數\n"
          ],
          "name": "stdout"
        }
      ]
    },
    {
      "cell_type": "markdown",
      "metadata": {
        "id": "wG2GGPLw7ax-"
      },
      "source": [
        "請判斷 2976297 與 5639 是否互質，如果不互質，最大公因數是誰？"
      ]
    },
    {
      "cell_type": "code",
      "metadata": {
        "id": "JKngoejA6zo5",
        "colab": {
          "base_uri": "https://localhost:8080/"
        },
        "outputId": "7c9d0174-fb7d-4ba8-f760-6e46e6892669"
      },
      "source": [
        "n1 = 2976297\n",
        "n2 = 5639\n",
        "\n",
        "a = set()           # a為一空集合\n",
        "b = set()           # b為一空集合\n",
        "\n",
        "for i in range(1,n1+1):    #測試n1,n2各自因數\n",
        "  if n1%i==0:\n",
        "    a.add(i)         # 加入集合add()\n",
        "for i in range(1,n2+1):\n",
        "  if n2%i==0:\n",
        "    b.add(i)\n",
        "\n",
        "c = a.intersection(b)      #用a,b交集\n",
        "c = list(c)           #將a,b交集\n",
        "c.sort()              #由小排到大\n",
        "c.pop()              #輸出最後一個值"
      ],
      "execution_count": null,
      "outputs": [
        {
          "output_type": "execute_result",
          "data": {
            "text/plain": [
              "1"
            ]
          },
          "metadata": {
            "tags": []
          },
          "execution_count": 26
        }
      ]
    }
  ]
}