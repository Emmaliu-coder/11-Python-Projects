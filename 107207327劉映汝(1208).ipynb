{
  "nbformat": 4,
  "nbformat_minor": 0,
  "metadata": {
    "colab": {
      "name": "107207327劉映汝.ipynb",
      "private_outputs": true,
      "provenance": [],
      "collapsed_sections": [],
      "toc_visible": true
    },
    "kernelspec": {
      "name": "python3",
      "display_name": "Python 3"
    }
  },
  "cells": [
    {
      "cell_type": "markdown",
      "metadata": {
        "id": "3bQWSR69pFY0"
      },
      "source": [
        "#### 20201208 課堂筆記"
      ]
    },
    {
      "cell_type": "markdown",
      "metadata": {
        "id": "ofsQdgQPqsyR"
      },
      "source": [
        "## 01 重複串列"
      ]
    },
    {
      "cell_type": "markdown",
      "metadata": {
        "id": "GEn9oPkiqBkp"
      },
      "source": [
        "串列"
      ]
    },
    {
      "cell_type": "code",
      "metadata": {
        "id": "RLir8LM1qA9Z"
      },
      "source": [
        "a = list()\r\n",
        "a.append(3)\r\n",
        "a"
      ],
      "execution_count": null,
      "outputs": []
    },
    {
      "cell_type": "code",
      "metadata": {
        "id": "spgCxwlNo2gF"
      },
      "source": [
        "a.append(5)\r\n",
        "a"
      ],
      "execution_count": null,
      "outputs": []
    },
    {
      "cell_type": "markdown",
      "metadata": {
        "id": "HuwbDNKpqRxe"
      },
      "source": [
        "白紅球 (使用 *)"
      ]
    },
    {
      "cell_type": "code",
      "metadata": {
        "id": "3KDDzA85qJ-p"
      },
      "source": [
        "b = ['w']*3\r\n",
        "b"
      ],
      "execution_count": null,
      "outputs": []
    },
    {
      "cell_type": "code",
      "metadata": {
        "id": "OW0QKJ0yqaVT"
      },
      "source": [
        "b = b + ['R']*5\r\n",
        "b"
      ],
      "execution_count": null,
      "outputs": []
    },
    {
      "cell_type": "markdown",
      "metadata": {
        "id": "btM9nNJwrTqC"
      },
      "source": [
        "### 排列組合"
      ]
    },
    {
      "cell_type": "markdown",
      "metadata": {
        "id": "pHejAjTOrdPF"
      },
      "source": [
        "Q1 : 三顆白球與五顆紅球的排列數\r\n"
      ]
    },
    {
      "cell_type": "markdown",
      "metadata": {
        "id": "qAx4895dvFMy"
      },
      "source": [
        "#### 排列"
      ]
    },
    {
      "cell_type": "code",
      "metadata": {
        "id": "64UB_s01qeLA"
      },
      "source": [
        "from itertools import permutations, combinations #import 排列、組合"
      ],
      "execution_count": null,
      "outputs": []
    },
    {
      "cell_type": "code",
      "metadata": {
        "id": "5Mje8_5-rwdA"
      },
      "source": [
        "c = range(4)          # b = 0,1,2,3\r\n",
        "per1 = list(permutations(c))  #為求長度 先將資料存成list\r\n",
        "print(per1)"
      ],
      "execution_count": null,
      "outputs": []
    },
    {
      "cell_type": "code",
      "metadata": {
        "id": "VU3-IwRhsEg_"
      },
      "source": [
        "for x in per1:\r\n",
        "  print(x)"
      ],
      "execution_count": null,
      "outputs": []
    },
    {
      "cell_type": "code",
      "metadata": {
        "id": "zgVfS9A9sIm-"
      },
      "source": [
        "len(per1)"
      ],
      "execution_count": null,
      "outputs": []
    },
    {
      "cell_type": "code",
      "metadata": {
        "id": "qjW0a-JJsVyn"
      },
      "source": [
        "per2 = list(permutations(b,2))  #C4取2\r\n",
        "print(per2)"
      ],
      "execution_count": null,
      "outputs": []
    },
    {
      "cell_type": "code",
      "metadata": {
        "id": "SqLYqD6bsmaf"
      },
      "source": [
        "len(per2)"
      ],
      "execution_count": null,
      "outputs": []
    },
    {
      "cell_type": "code",
      "metadata": {
        "id": "20I7tbRDsoIt"
      },
      "source": [
        "per3 = list(permutations(b,2))\r\n",
        "per3 #或是for x in per3 : print(x)"
      ],
      "execution_count": null,
      "outputs": []
    },
    {
      "cell_type": "code",
      "metadata": {
        "id": "mukXHmXHttPf"
      },
      "source": [
        "len(per3)"
      ],
      "execution_count": null,
      "outputs": []
    },
    {
      "cell_type": "code",
      "metadata": {
        "id": "ln5eJgD3t8r8"
      },
      "source": [
        "set(per3)"
      ],
      "execution_count": null,
      "outputs": []
    },
    {
      "cell_type": "markdown",
      "metadata": {
        "id": "yBcydQhou5Sa"
      },
      "source": [
        "#### 組合\r\n"
      ]
    },
    {
      "cell_type": "code",
      "metadata": {
        "id": "G7jpiO51u1ab"
      },
      "source": [
        "comb1 = list(combinations(c,2))\r\n",
        "comb1"
      ],
      "execution_count": null,
      "outputs": []
    },
    {
      "cell_type": "code",
      "metadata": {
        "id": "YAmkNu4XvUpC"
      },
      "source": [
        "comb2 = list(combinations(b,3))\r\n",
        "comb2 = set(comb2)\r\n",
        "comb2"
      ],
      "execution_count": null,
      "outputs": []
    },
    {
      "cell_type": "code",
      "metadata": {
        "id": "l7YpWVO7v4vu"
      },
      "source": [
        "len(comb2)"
      ],
      "execution_count": null,
      "outputs": []
    },
    {
      "cell_type": "markdown",
      "metadata": {
        "id": "6aeAN_eGwIbB"
      },
      "source": [
        "Q2 : ( 組合 ) 請計算一個有三顆白球與五顆紅球的籃子中，任取兩顆，其結果是兩顆白球的機率。"
      ]
    },
    {
      "cell_type": "code",
      "metadata": {
        "id": "O4LSa7HowDmK"
      },
      "source": [
        "q = ['W']*3+ ['R']*5\r\n",
        "q"
      ],
      "execution_count": null,
      "outputs": []
    },
    {
      "cell_type": "code",
      "metadata": {
        "id": "ewL4j5YQy_oQ"
      },
      "source": [
        "comb3 = list(combinations(q,2))\r\n",
        "comb3"
      ],
      "execution_count": null,
      "outputs": []
    },
    {
      "cell_type": "code",
      "metadata": {
        "id": "OkTiZRnAxNf5"
      },
      "source": [
        "len(comb3)"
      ],
      "execution_count": null,
      "outputs": []
    },
    {
      "cell_type": "code",
      "metadata": {
        "id": "0FQTdhh4wnHV"
      },
      "source": [
        "comb3 = list(combinations(q,2))\r\n",
        "num = 0\r\n",
        "for i in comb3:\r\n",
        "  if i == ('W', 'W') :\r\n",
        "    num += 1\r\n",
        "\r\n",
        "num/(len(comb3))"
      ],
      "execution_count": null,
      "outputs": []
    },
    {
      "cell_type": "markdown",
      "metadata": {
        "id": "KAyTFAjP2LkZ"
      },
      "source": [
        "#### 其他重要型別"
      ]
    },
    {
      "cell_type": "code",
      "metadata": {
        "id": "xTkT7zQDxDl1"
      },
      "source": [
        "%pylab inline"
      ],
      "execution_count": null,
      "outputs": []
    },
    {
      "cell_type": "markdown",
      "metadata": {
        "id": "V5jGB8_O2Z-Q"
      },
      "source": [
        "陣列 Array"
      ]
    },
    {
      "cell_type": "code",
      "metadata": {
        "id": "NxIaJArj2Xiz"
      },
      "source": [
        "A = zeros([3,2]) #或是empty\r\n",
        "print(A)"
      ],
      "execution_count": null,
      "outputs": []
    },
    {
      "cell_type": "code",
      "metadata": {
        "id": "ZUQrdms833lN"
      },
      "source": [
        "A1 = empty([3,2]) \r\n",
        "print(A1)"
      ],
      "execution_count": null,
      "outputs": []
    },
    {
      "cell_type": "code",
      "metadata": {
        "id": "uVRd0SEk2g5B"
      },
      "source": [
        "B = ones([3,2])\r\n",
        "print(B)"
      ],
      "execution_count": null,
      "outputs": []
    },
    {
      "cell_type": "markdown",
      "metadata": {
        "id": "LCKfZ_lL47sO"
      },
      "source": [
        "如何 print 出多行相同答案\r\n",
        "\r\n"
      ]
    },
    {
      "cell_type": "code",
      "metadata": {
        "id": "8y9gCWRy5GZM"
      },
      "source": [
        "print(B*10)"
      ],
      "execution_count": null,
      "outputs": []
    },
    {
      "cell_type": "code",
      "metadata": {
        "id": "kJ84AtSO238e"
      },
      "source": [
        "C = rand(3,2)\r\n",
        "C"
      ],
      "execution_count": null,
      "outputs": []
    },
    {
      "cell_type": "code",
      "metadata": {
        "id": "BQTyAh6I3G5a"
      },
      "source": [
        "D = randn(3,2) #常態分配(會開始有負數)\r\n",
        "D"
      ],
      "execution_count": null,
      "outputs": []
    },
    {
      "cell_type": "code",
      "metadata": {
        "id": "v-j88VUA2_zD"
      },
      "source": [
        "type(A)"
      ],
      "execution_count": null,
      "outputs": []
    },
    {
      "cell_type": "markdown",
      "metadata": {
        "id": "abkNIY9t5QoV"
      },
      "source": [
        "Q3 : 請做出每個元素都是5的4乘4 的陣列"
      ]
    },
    {
      "cell_type": "code",
      "metadata": {
        "id": "tmwWFwEM5Qa7"
      },
      "source": [
        "A = 5*ones([4,4])\r\n",
        "print(A)"
      ],
      "execution_count": null,
      "outputs": []
    },
    {
      "cell_type": "markdown",
      "metadata": {
        "id": "gRd26Hft8WP-"
      },
      "source": [
        "陣列的乘法規則是什麼？"
      ]
    },
    {
      "cell_type": "code",
      "metadata": {
        "id": "x-IevXnQ3CEX"
      },
      "source": [
        "A = ones([3,2])\r\n",
        "print(A)"
      ],
      "execution_count": null,
      "outputs": []
    },
    {
      "cell_type": "code",
      "metadata": {
        "id": "Zxsw34gc8ZBz"
      },
      "source": [
        "B = 2*ones([1,2])\r\n",
        "print(B)"
      ],
      "execution_count": null,
      "outputs": []
    },
    {
      "cell_type": "code",
      "metadata": {
        "id": "1mA7_BWY8a4Z"
      },
      "source": [
        "C = A*B\r\n",
        "C"
      ],
      "execution_count": null,
      "outputs": []
    },
    {
      "cell_type": "code",
      "metadata": {
        "id": "Ba2NKGZD8cXc"
      },
      "source": [
        "B[0,0] = 3\r\n",
        "print(B)"
      ],
      "execution_count": null,
      "outputs": []
    },
    {
      "cell_type": "code",
      "metadata": {
        "id": "G66vQX_s8gao"
      },
      "source": [
        "C1 = A*B\r\n",
        "C1"
      ],
      "execution_count": null,
      "outputs": []
    },
    {
      "cell_type": "markdown",
      "metadata": {
        "id": "nOTld6o39B3f"
      },
      "source": [
        "陣列對調相乘 成立"
      ]
    },
    {
      "cell_type": "code",
      "metadata": {
        "id": "nfSfNd8s8inE"
      },
      "source": [
        "C1 = B*A\r\n",
        "C1"
      ],
      "execution_count": null,
      "outputs": []
    },
    {
      "cell_type": "code",
      "metadata": {
        "id": "v0FBVbSy9AMS"
      },
      "source": [
        "A = ones([3,3])\r\n",
        "A[:,1] = 2 #陣列中第二直排全變成2\r\n",
        "print(A)"
      ],
      "execution_count": null,
      "outputs": []
    },
    {
      "cell_type": "code",
      "metadata": {
        "id": "7SX6xD8J93CY"
      },
      "source": [
        "A[1,:] = 2 \r\n",
        "A[1,1] = 4 #陣列中第二橫+排全變成2\r\n",
        "print(A)"
      ],
      "execution_count": null,
      "outputs": []
    },
    {
      "cell_type": "code",
      "metadata": {
        "id": "0sx4GeT--A-B"
      },
      "source": [
        "B.shape"
      ],
      "execution_count": null,
      "outputs": []
    },
    {
      "cell_type": "markdown",
      "metadata": {
        "id": "a0zeGvcB_E3i"
      },
      "source": [
        "轉置陣列"
      ]
    },
    {
      "cell_type": "code",
      "metadata": {
        "id": "rr69YAMW-ac4"
      },
      "source": [
        "N = rand(4,4)\r\n",
        "N"
      ],
      "execution_count": null,
      "outputs": []
    },
    {
      "cell_type": "code",
      "metadata": {
        "id": "gL2puqhC_M6A"
      },
      "source": [
        "K = N.T #K為N的轉置矩陣\r\n",
        "K"
      ],
      "execution_count": null,
      "outputs": []
    },
    {
      "cell_type": "code",
      "metadata": {
        "id": "9dQ_6Yxj_Ud3"
      },
      "source": [
        "L = array([1,2,3,4])\r\n",
        "K*L"
      ],
      "execution_count": null,
      "outputs": []
    },
    {
      "cell_type": "code",
      "metadata": {
        "id": "Dws2-xcx_33G"
      },
      "source": [
        "L*K"
      ],
      "execution_count": null,
      "outputs": []
    },
    {
      "cell_type": "code",
      "metadata": {
        "id": "4TkNZtiKABL5"
      },
      "source": [
        ""
      ],
      "execution_count": null,
      "outputs": []
    }
  ]
}