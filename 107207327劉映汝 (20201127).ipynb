{
  "nbformat": 4,
  "nbformat_minor": 0,
  "metadata": {
    "colab": {
      "name": "107207327劉映汝.ipynb",
      "provenance": [],
      "collapsed_sections": [],
      "toc_visible": true
    },
    "kernelspec": {
      "name": "python3",
      "display_name": "Python 3"
    }
  },
  "cells": [
    {
      "cell_type": "markdown",
      "metadata": {
        "id": "6H2f8bAOeb1f"
      },
      "source": [
        "# 2020.11.27 函數\n",
        "\n"
      ]
    },
    {
      "cell_type": "markdown",
      "metadata": {
        "id": "GIT7PLv-etVK"
      },
      "source": [
        "## 01 函數\n"
      ]
    },
    {
      "cell_type": "markdown",
      "metadata": {
        "id": "O317zWxsmdDS"
      },
      "source": [
        "#### 函數\n"
      ]
    },
    {
      "cell_type": "markdown",
      "metadata": {
        "id": "pDyb-XWPnQX_"
      },
      "source": [
        "#### 函數架構"
      ]
    },
    {
      "cell_type": "code",
      "metadata": {
        "id": "-dWu5o0KeWyX"
      },
      "source": [
        "def function_name(x,y,z):\n",
        "  xxxx\n",
        "  return value"
      ],
      "execution_count": null,
      "outputs": []
    },
    {
      "cell_type": "code",
      "metadata": {
        "id": "EjDB6f3KmxEu"
      },
      "source": [
        "def f(x):\n",
        "  return 2*x**2 + 3*x -7"
      ],
      "execution_count": null,
      "outputs": []
    },
    {
      "cell_type": "code",
      "metadata": {
        "colab": {
          "base_uri": "https://localhost:8080/"
        },
        "id": "HNdyC5xUnKXt",
        "outputId": "e1232b00-dc5a-4b32-b9a4-7905d10aea4a"
      },
      "source": [
        "f(30)"
      ],
      "execution_count": null,
      "outputs": [
        {
          "output_type": "execute_result",
          "data": {
            "text/plain": [
              "1883"
            ]
          },
          "metadata": {
            "tags": []
          },
          "execution_count": 9
        }
      ]
    },
    {
      "cell_type": "code",
      "metadata": {
        "id": "4rdVkvYAnM_y"
      },
      "source": [
        "def g(x):\n",
        "  if x < 0:\n",
        "    return -x\n",
        "  elif x >= 0 and x < 5:\n",
        "    return x ** 2\n",
        "  else:\n",
        "    return 3*x + 10 "
      ],
      "execution_count": null,
      "outputs": []
    },
    {
      "cell_type": "code",
      "metadata": {
        "colab": {
          "base_uri": "https://localhost:8080/"
        },
        "id": "7iZJbeyun3Uu",
        "outputId": "45eaa5fe-3fe9-46e3-9ef3-2a6f204db1ee"
      },
      "source": [
        "g(5)"
      ],
      "execution_count": null,
      "outputs": [
        {
          "output_type": "execute_result",
          "data": {
            "text/plain": [
              "25"
            ]
          },
          "metadata": {
            "tags": []
          },
          "execution_count": 6
        }
      ]
    },
    {
      "cell_type": "markdown",
      "metadata": {
        "id": "d9D7ITnZpQM7"
      },
      "source": [
        "#### Numpy"
      ]
    },
    {
      "cell_type": "markdown",
      "metadata": {
        "id": "D5PZOnv8q322"
      },
      "source": [
        "linspace 函數\n",
        "\n",
        "[Numpy中linspace函數的功用](https://medium.com/@racktar7743/python-numpy-%E4%B8%AD-linspace-%E5%87%BD%E6%95%B8%E7%9A%84%E5%8A%9F%E7%94%A8-448312d1b411)"
      ]
    },
    {
      "cell_type": "code",
      "metadata": {
        "id": "mbF0Dw1UpAon"
      },
      "source": [
        "x = linspace(-10,10,200)"
      ],
      "execution_count": null,
      "outputs": []
    },
    {
      "cell_type": "code",
      "metadata": {
        "colab": {
          "base_uri": "https://localhost:8080/"
        },
        "id": "cU2RXogYzBBB",
        "outputId": "d874c347-8e5d-4772-fcad-e05188a872f9"
      },
      "source": [
        "x[0]"
      ],
      "execution_count": null,
      "outputs": [
        {
          "output_type": "execute_result",
          "data": {
            "text/plain": [
              "-10.0"
            ]
          },
          "metadata": {
            "tags": []
          },
          "execution_count": 136
        }
      ]
    },
    {
      "cell_type": "code",
      "metadata": {
        "colab": {
          "base_uri": "https://localhost:8080/"
        },
        "id": "hDaMXj0-zCke",
        "outputId": "07330467-0dc7-486e-ca38-dfab4183f8d1"
      },
      "source": [
        "x[-1]"
      ],
      "execution_count": null,
      "outputs": [
        {
          "output_type": "execute_result",
          "data": {
            "text/plain": [
              "10.0"
            ]
          },
          "metadata": {
            "tags": []
          },
          "execution_count": 137
        }
      ]
    },
    {
      "cell_type": "code",
      "metadata": {
        "colab": {
          "base_uri": "https://localhost:8080/"
        },
        "id": "SgWp2szRpOkx",
        "outputId": "43fdbc99-973f-4fc9-f691-51bb705c25a7"
      },
      "source": [
        "type(x)"
      ],
      "execution_count": null,
      "outputs": [
        {
          "output_type": "execute_result",
          "data": {
            "text/plain": [
              "numpy.ndarray"
            ]
          },
          "metadata": {
            "tags": []
          },
          "execution_count": 145
        }
      ]
    },
    {
      "cell_type": "code",
      "metadata": {
        "colab": {
          "base_uri": "https://localhost:8080/"
        },
        "id": "1vCHVkAmpZhS",
        "outputId": "83f9f9e4-7206-4c5c-bcb2-1ef98cb9d9bb"
      },
      "source": [
        "len(x)"
      ],
      "execution_count": null,
      "outputs": [
        {
          "output_type": "execute_result",
          "data": {
            "text/plain": [
              "200"
            ]
          },
          "metadata": {
            "tags": []
          },
          "execution_count": 146
        }
      ]
    },
    {
      "cell_type": "code",
      "metadata": {
        "id": "PVB7h02RuiYW"
      },
      "source": [
        "y = f(x)"
      ],
      "execution_count": null,
      "outputs": []
    },
    {
      "cell_type": "code",
      "metadata": {
        "id": "jqEZqcAx1AUx"
      },
      "source": [
        "f?"
      ],
      "execution_count": null,
      "outputs": []
    },
    {
      "cell_type": "code",
      "metadata": {
        "colab": {
          "base_uri": "https://localhost:8080/"
        },
        "id": "45nCJlPry1dp",
        "outputId": "c4cb7e73-fb08-4358-eef6-25a740dd5877"
      },
      "source": [
        "type(y)"
      ],
      "execution_count": null,
      "outputs": [
        {
          "output_type": "execute_result",
          "data": {
            "text/plain": [
              "numpy.ndarray"
            ]
          },
          "metadata": {
            "tags": []
          },
          "execution_count": 13
        }
      ]
    },
    {
      "cell_type": "code",
      "metadata": {
        "colab": {
          "base_uri": "https://localhost:8080/",
          "height": 283
        },
        "id": "U5f20KmKy5Oj",
        "outputId": "28dc4a31-a3c7-4fdb-8e1f-37ccdb4122a9"
      },
      "source": [
        "plot(x,y)"
      ],
      "execution_count": null,
      "outputs": [
        {
          "output_type": "execute_result",
          "data": {
            "text/plain": [
              "[<matplotlib.lines.Line2D at 0x7f1c45556160>]"
            ]
          },
          "metadata": {
            "tags": []
          },
          "execution_count": 12
        },
        {
          "output_type": "display_data",
          "data": {
            "image/png": "[encoded data removed]",
            "text/plain": [
              "<Figure size 432x288 with 1 Axes>"
            ]
          },
          "metadata": {
            "tags": [],
            "needs_background": "light"
          }
        }
      ]
    },
    {
      "cell_type": "code",
      "metadata": {
        "colab": {
          "base_uri": "https://localhost:8080/",
          "height": 265
        },
        "id": "pGCCcSK72ZCV",
        "outputId": "b9571776-4b08-41a5-beeb-2bcacae1c447"
      },
      "source": [
        "plot(x,y);"
      ],
      "execution_count": null,
      "outputs": [
        {
          "output_type": "display_data",
          "data": {
            "image/png": "[encoded data removed]",
            "text/plain": [
              "<Figure size 432x288 with 1 Axes>"
            ]
          },
          "metadata": {
            "tags": [],
            "needs_background": "light"
          }
        }
      ]
    },
    {
      "cell_type": "code",
      "metadata": {
        "colab": {
          "base_uri": "https://localhost:8080/",
          "height": 265
        },
        "id": "1M3y22mL3ofS",
        "outputId": "0a18b40c-9d4f-428a-b37a-1d7658f5aa96"
      },
      "source": [
        "plot(x,y,'c');"
      ],
      "execution_count": null,
      "outputs": [
        {
          "output_type": "display_data",
          "data": {
            "image/png": "[encoded data removed]",
            "text/plain": [
              "<Figure size 432x288 with 1 Axes>"
            ]
          },
          "metadata": {
            "tags": [],
            "needs_background": "light"
          }
        }
      ]
    },
    {
      "cell_type": "code",
      "metadata": {
        "colab": {
          "base_uri": "https://localhost:8080/"
        },
        "id": "RtgGj4L_qX79",
        "outputId": "5a3c713d-8680-4409-fe6d-afd904d45fed"
      },
      "source": [
        "%pylab inline"
      ],
      "execution_count": null,
      "outputs": [
        {
          "output_type": "stream",
          "text": [
            "Populating the interactive namespace from numpy and matplotlib\n"
          ],
          "name": "stdout"
        }
      ]
    },
    {
      "cell_type": "code",
      "metadata": {
        "id": "SLPLcAe3tSpP"
      },
      "source": [
        "def f(x):\n",
        "  \"\"\"\n",
        "  This is my function. It will return 2x^2+3x-7\n",
        "  \"\"\"\n",
        "  # 註解\n",
        "  return 4*x**2+9*x-7"
      ],
      "execution_count": null,
      "outputs": []
    },
    {
      "cell_type": "code",
      "metadata": {
        "colab": {
          "base_uri": "https://localhost:8080/"
        },
        "id": "QKwjdcRatUUO",
        "outputId": "b5a05254-61d6-4e52-a8c9-cfc02fdf1c08"
      },
      "source": [
        "f(0)"
      ],
      "execution_count": null,
      "outputs": [
        {
          "output_type": "execute_result",
          "data": {
            "text/plain": [
              "-7"
            ]
          },
          "metadata": {
            "tags": []
          },
          "execution_count": 71
        }
      ]
    },
    {
      "cell_type": "markdown",
      "metadata": {
        "id": "AUULCRCruNop"
      },
      "source": [
        "如何定義預設值\n"
      ]
    },
    {
      "cell_type": "code",
      "metadata": {
        "id": "4UZMJSzttzdV"
      },
      "source": [
        "def area (x,y,h=1):\n",
        "  return (x+y)*h/2"
      ],
      "execution_count": null,
      "outputs": []
    },
    {
      "cell_type": "code",
      "metadata": {
        "colab": {
          "base_uri": "https://localhost:8080/"
        },
        "id": "twbyAogEt_OL",
        "outputId": "a1fed93b-a51b-4c42-e0e6-333c80e143f5"
      },
      "source": [
        "area(3,5,5)"
      ],
      "execution_count": null,
      "outputs": [
        {
          "output_type": "execute_result",
          "data": {
            "text/plain": [
              "20.0"
            ]
          },
          "metadata": {
            "tags": []
          },
          "execution_count": 89
        }
      ]
    },
    {
      "cell_type": "code",
      "metadata": {
        "colab": {
          "base_uri": "https://localhost:8080/"
        },
        "id": "PC4fqshOvT23",
        "outputId": "a2fe8ac1-4705-4661-ebef-a92444db844d"
      },
      "source": [
        "area(3,5)"
      ],
      "execution_count": null,
      "outputs": [
        {
          "output_type": "execute_result",
          "data": {
            "text/plain": [
              "4.0"
            ]
          },
          "metadata": {
            "tags": []
          },
          "execution_count": 104
        }
      ]
    },
    {
      "cell_type": "code",
      "metadata": {
        "colab": {
          "base_uri": "https://localhost:8080/",
          "height": 167
        },
        "id": "f0F293uvvV16",
        "outputId": "c6d03ebb-0aef-4ff4-cc39-239a9a1f02dc"
      },
      "source": [
        "area(3)"
      ],
      "execution_count": null,
      "outputs": [
        {
          "output_type": "error",
          "ename": "TypeError",
          "evalue": "ignored",
          "traceback": [
            "\u001b[0;31m---------------------------------------------------------------------------\u001b[0m",
            "\u001b[0;31mTypeError\u001b[0m                                 Traceback (most recent call last)",
            "\u001b[0;32m<ipython-input-105-4573a7db484b>\u001b[0m in \u001b[0;36m<module>\u001b[0;34m()\u001b[0m\n\u001b[0;32m----> 1\u001b[0;31m \u001b[0marea\u001b[0m\u001b[0;34m(\u001b[0m\u001b[0;36m3\u001b[0m\u001b[0;34m)\u001b[0m\u001b[0;34m\u001b[0m\u001b[0;34m\u001b[0m\u001b[0m\n\u001b[0m",
            "\u001b[0;31mTypeError\u001b[0m: area() missing 1 required positional argument: 'y'"
          ]
        }
      ]
    },
    {
      "cell_type": "markdown",
      "metadata": {
        "id": "VsSynzPReuoO"
      },
      "source": [
        "## 02 副程式 "
      ]
    },
    {
      "cell_type": "code",
      "metadata": {
        "id": "DZhR_moLva5N"
      },
      "source": [
        "def proc1():\n",
        "  print(x+y)\n",
        "  print(x-y)\n",
        "  print(x*y)\n",
        "  print(x/y)"
      ],
      "execution_count": null,
      "outputs": []
    },
    {
      "cell_type": "code",
      "metadata": {
        "colab": {
          "base_uri": "https://localhost:8080/"
        },
        "id": "M56w8kOBvleL",
        "outputId": "1be531fd-4fac-4b20-c0eb-b7289e76ca36"
      },
      "source": [
        "x = 5\n",
        "y = 6\n",
        "proc1()"
      ],
      "execution_count": null,
      "outputs": [
        {
          "output_type": "stream",
          "text": [
            "11\n",
            "-1\n",
            "30\n",
            "0.8333333333333334\n"
          ],
          "name": "stdout"
        }
      ]
    },
    {
      "cell_type": "code",
      "metadata": {
        "id": "Yzl9qsYmeveb"
      },
      "source": [
        "def factor(n):\n",
        "  a = list()\n",
        "  for i in range (1, n+1):\n",
        "    if n % i == 0:\n",
        "      a.append(i)\n",
        "  return(a)"
      ],
      "execution_count": null,
      "outputs": []
    },
    {
      "cell_type": "code",
      "metadata": {
        "colab": {
          "base_uri": "https://localhost:8080/"
        },
        "id": "dLgdvFgJxIHi",
        "outputId": "807030cf-f885-4e94-f896-c9f32a9465c3"
      },
      "source": [
        "factor(100)"
      ],
      "execution_count": null,
      "outputs": [
        {
          "output_type": "execute_result",
          "data": {
            "text/plain": [
              "[1, 2, 4, 5, 10, 20, 25, 50, 100]"
            ]
          },
          "metadata": {
            "tags": []
          },
          "execution_count": 122
        }
      ]
    },
    {
      "cell_type": "code",
      "metadata": {
        "colab": {
          "base_uri": "https://localhost:8080/"
        },
        "id": "fkqcnnlixOci",
        "outputId": "9a6d4cb6-e55d-4b52-fbb5-d2cbd347abf6"
      },
      "source": [
        "sqrt(8005)"
      ],
      "execution_count": null,
      "outputs": [
        {
          "output_type": "execute_result",
          "data": {
            "text/plain": [
              "89.47066558375433"
            ]
          },
          "metadata": {
            "tags": []
          },
          "execution_count": 123
        }
      ]
    },
    {
      "cell_type": "markdown",
      "metadata": {
        "id": "jk6_O2czxjhE"
      },
      "source": [
        "#### 中斷迴圈Break"
      ]
    },
    {
      "cell_type": "code",
      "metadata": {
        "colab": {
          "base_uri": "https://localhost:8080/"
        },
        "id": "RCYzmXcwxjNk",
        "outputId": "5003dd1f-10fb-4852-aaab-74537bbd666e"
      },
      "source": [
        "for i in range(20):\n",
        "  print(i)\n",
        "  if i > 10:\n",
        "    break       # 跳出最近迴圈"
      ],
      "execution_count": null,
      "outputs": [
        {
          "output_type": "stream",
          "text": [
            "0\n",
            "1\n",
            "2\n",
            "3\n",
            "4\n",
            "5\n",
            "6\n",
            "7\n",
            "8\n",
            "9\n",
            "10\n",
            "11\n"
          ],
          "name": "stdout"
        }
      ]
    },
    {
      "cell_type": "code",
      "metadata": {
        "colab": {
          "base_uri": "https://localhost:8080/"
        },
        "id": "1FeFkmPvyEnm",
        "outputId": "64f2a655-e045-4c2e-c3a7-5b8ca927b8c9"
      },
      "source": [
        "for i in range(3):\n",
        "  for j in range(5):\n",
        "    print(i,j)\n",
        "    if j > 2:\n",
        "      break"
      ],
      "execution_count": null,
      "outputs": [
        {
          "output_type": "stream",
          "text": [
            "0 0\n",
            "0 1\n",
            "0 2\n",
            "0 3\n",
            "1 0\n",
            "1 1\n",
            "1 2\n",
            "1 3\n",
            "2 0\n",
            "2 1\n",
            "2 2\n",
            "2 3\n"
          ],
          "name": "stdout"
        }
      ]
    },
    {
      "cell_type": "markdown",
      "metadata": {
        "id": "T3GXUlmd1zmU"
      },
      "source": [
        "#### 中斷程式但繼續迴圈Continue"
      ]
    },
    {
      "cell_type": "code",
      "metadata": {
        "colab": {
          "base_uri": "https://localhost:8080/"
        },
        "id": "S8MdmG9x1zNR",
        "outputId": "526aa401-f3d0-445d-f252-e935a77a26f6"
      },
      "source": [
        "for i in range(20):\n",
        "  if i % 2 == 1:\n",
        "    continue\n",
        "    print(i) #不跑continue下面的敘述\n",
        "  else:\n",
        "    print(i+1)"
      ],
      "execution_count": null,
      "outputs": [
        {
          "output_type": "stream",
          "text": [
            "1\n",
            "3\n",
            "5\n",
            "7\n",
            "9\n",
            "11\n",
            "13\n",
            "15\n",
            "17\n",
            "19\n"
          ],
          "name": "stdout"
        }
      ]
    },
    {
      "cell_type": "markdown",
      "metadata": {
        "id": "2Vvx1dRt2vy3"
      },
      "source": [
        "#### Fibonacci 數列\n"
      ]
    },
    {
      "cell_type": "code",
      "metadata": {
        "colab": {
          "base_uri": "https://localhost:8080/"
        },
        "id": "MWTcq6mk25NJ",
        "outputId": "2b45f07a-1358-4dd1-a58e-f607988146d8"
      },
      "source": [
        "N = 30\n",
        "F = [0,1]\n",
        "for i in range(2,N):\n",
        "  F.append(sum(F[-2:]))\n",
        "print(F)"
      ],
      "execution_count": null,
      "outputs": [
        {
          "output_type": "stream",
          "text": [
            "[0, 1, 1, 2, 3, 5, 8, 13, 21, 34, 55, 89, 144, 233, 377, 610, 987, 1597, 2584, 4181, 6765, 10946, 17711, 28657, 46368, 75025, 121393, 196418, 317811, 514229]\n"
          ],
          "name": "stdout"
        }
      ]
    },
    {
      "cell_type": "code",
      "metadata": {
        "id": "REZ6argI50r5"
      },
      "source": [
        "def fib(n):\n",
        "  if n < 2:\n",
        "    return n \n",
        "  n0 = 0\n",
        "  n1 = 1\n",
        "  fib = 0\n",
        "  for i in range(n-1):\n",
        "    fib = n0 + n1\n",
        "    n0 = n1\n",
        "    n1 = fib\n",
        "  return fib"
      ],
      "execution_count": null,
      "outputs": []
    },
    {
      "cell_type": "code",
      "metadata": {
        "colab": {
          "base_uri": "https://localhost:8080/"
        },
        "id": "hUBJv4bH7erD",
        "outputId": "2c64ea9c-d48c-4dff-c56a-afe50b2cc937"
      },
      "source": [
        "for i in range(100):\n",
        "  print(fib(i), end=', ')"
      ],
      "execution_count": null,
      "outputs": [
        {
          "output_type": "stream",
          "text": [
            "0, 1, 1, 2, 3, 5, 8, 13, 21, 34, 55, 89, 144, 233, 377, 610, 987, 1597, 2584, 4181, 6765, 10946, 17711, 28657, 46368, 75025, 121393, 196418, 317811, 514229, 832040, 1346269, 2178309, 3524578, 5702887, 9227465, 14930352, 24157817, 39088169, 63245986, 102334155, 165580141, 267914296, 433494437, 701408733, 1134903170, 1836311903, 2971215073, 4807526976, 7778742049, 12586269025, 20365011074, 32951280099, 53316291173, 86267571272, 139583862445, 225851433717, 365435296162, 591286729879, 956722026041, 1548008755920, 2504730781961, 4052739537881, 6557470319842, 10610209857723, 17167680177565, 27777890035288, 44945570212853, 72723460248141, 117669030460994, 190392490709135, 308061521170129, 498454011879264, 806515533049393, 1304969544928657, 2111485077978050, 3416454622906707, 5527939700884757, 8944394323791464, 14472334024676221, 23416728348467685, 37889062373143906, 61305790721611591, 99194853094755497, 160500643816367088, 259695496911122585, 420196140727489673, 679891637638612258, 1100087778366101931, 1779979416004714189, 2880067194370816120, 4660046610375530309, 7540113804746346429, 12200160415121876738, 19740274219868223167, 31940434634990099905, 51680708854858323072, 83621143489848422977, 135301852344706746049, 218922995834555169026, "
          ],
          "name": "stdout"
        }
      ]
    },
    {
      "cell_type": "code",
      "metadata": {
        "id": "k_IWNack8kII"
      },
      "source": [
        "def Fibonacci(n):\n",
        "  F = [1,1]\n",
        "  if n == 1:\n",
        "    F = [1]\n",
        "  if n == 2:\n",
        "    F = [1,1]\n",
        "  for i in range(3, n+1):\n",
        "    F.append(sum(F[-2:]))\n",
        "\n",
        "  return(F)"
      ],
      "execution_count": null,
      "outputs": []
    },
    {
      "cell_type": "code",
      "metadata": {
        "colab": {
          "base_uri": "https://localhost:8080/"
        },
        "id": "53kBgh4f9Hgj",
        "outputId": "ceeeb8ec-4bc0-4b49-828f-7d5762f47406"
      },
      "source": [
        "Fibonacci(3)"
      ],
      "execution_count": null,
      "outputs": [
        {
          "output_type": "execute_result",
          "data": {
            "text/plain": [
              "[1, 1, 2]"
            ]
          },
          "metadata": {
            "tags": []
          },
          "execution_count": 173
        }
      ]
    },
    {
      "cell_type": "markdown",
      "metadata": {
        "id": "JHMdFUiN_9Ou"
      },
      "source": [
        "#### Global/Local variables"
      ]
    },
    {
      "cell_type": "code",
      "metadata": {
        "colab": {
          "base_uri": "https://localhost:8080/"
        },
        "id": "qVsMYxKL_8wk",
        "outputId": "c064dcff-94e6-471d-cf08-0f797700e4da"
      },
      "source": [
        "F = [1,2,3]\n",
        "print(F)\n",
        "def G(n):\n",
        "  F = list()\n",
        "  for i in range(5,n):\n",
        "    F.append(i)\n",
        "  return(F)"
      ],
      "execution_count": null,
      "outputs": [
        {
          "output_type": "stream",
          "text": [
            "[1, 2, 3]\n"
          ],
          "name": "stdout"
        }
      ]
    },
    {
      "cell_type": "code",
      "metadata": {
        "colab": {
          "base_uri": "https://localhost:8080/"
        },
        "id": "DIAGFhe3Aato",
        "outputId": "e5435bfd-ec34-46c6-cd9c-751daa255c42"
      },
      "source": [
        "K = G(10)\n",
        "print(K)\n",
        "print(F)"
      ],
      "execution_count": null,
      "outputs": [
        {
          "output_type": "stream",
          "text": [
            "[5, 6, 7, 8, 9]\n",
            "[1, 2, 3]\n"
          ],
          "name": "stdout"
        }
      ]
    },
    {
      "cell_type": "markdown",
      "metadata": {
        "id": "ykQ85Tu-AjlC"
      },
      "source": [
        "## 作業:判斷質數\n"
      ]
    },
    {
      "cell_type": "code",
      "metadata": {
        "colab": {
          "base_uri": "https://localhost:8080/"
        },
        "id": "iHTpdbXXAamu",
        "outputId": "8df2bd71-5774-418d-90e1-8d2f885cd6fd"
      },
      "source": [
        "def prime(n):\n",
        "  s = list()\n",
        "  for i in range(1,n+1):\n",
        "    if n%i == 0:\n",
        "     s.append(i)\n",
        "  print(\"Its factors: \"+ str(s))\n",
        "  if len(s) == 2:\n",
        "   print(\"This is a prime number\")\n",
        "  else:\n",
        "   print(\"This is not a prime number\")\n",
        "prime(751)"
      ],
      "execution_count": null,
      "outputs": [
        {
          "output_type": "stream",
          "text": [
            "Its factors: [1, 751]\n",
            "This is a prime number\n"
          ],
          "name": "stdout"
        }
      ]
    },
    {
      "cell_type": "code",
      "metadata": {
        "colab": {
          "base_uri": "https://localhost:8080/"
        },
        "id": "btJ0SdxEJnYX",
        "outputId": "1e981366-33b3-495b-b50e-e06653b954a6"
      },
      "source": [
        "prime(3)"
      ],
      "execution_count": null,
      "outputs": [
        {
          "output_type": "stream",
          "text": [
            "Its factors: [1, 3]\n",
            "This is a prime number\n"
          ],
          "name": "stdout"
        }
      ]
    },
    {
      "cell_type": "code",
      "metadata": {
        "id": "7XpIhDQOJoYZ",
        "colab": {
          "base_uri": "https://localhost:8080/",
          "height": 247
        },
        "outputId": "48d78f4f-243f-4d71-8351-19106758d3eb"
      },
      "source": [
        "num = str(input(\"num: \"))\n",
        "for i in range(2, num):\n",
        "  if (num % i) == 0:\n",
        "    print(num, \"this is a prime number\")\n",
        "    break\n",
        "  else:\n",
        "    print(num, \"this is not a prime number\")"
      ],
      "execution_count": null,
      "outputs": [
        {
          "output_type": "stream",
          "text": [
            "num: 52\n"
          ],
          "name": "stdout"
        },
        {
          "output_type": "error",
          "ename": "TypeError",
          "evalue": "ignored",
          "traceback": [
            "\u001b[0;31m---------------------------------------------------------------------------\u001b[0m",
            "\u001b[0;31mTypeError\u001b[0m                                 Traceback (most recent call last)",
            "\u001b[0;32m<ipython-input-19-4113ed09e2de>\u001b[0m in \u001b[0;36m<module>\u001b[0;34m()\u001b[0m\n\u001b[1;32m      1\u001b[0m \u001b[0mnum\u001b[0m \u001b[0;34m=\u001b[0m \u001b[0mstr\u001b[0m\u001b[0;34m(\u001b[0m\u001b[0minput\u001b[0m\u001b[0;34m(\u001b[0m\u001b[0;34m\"num: \"\u001b[0m\u001b[0;34m)\u001b[0m\u001b[0;34m)\u001b[0m\u001b[0;34m\u001b[0m\u001b[0;34m\u001b[0m\u001b[0m\n\u001b[0;32m----> 2\u001b[0;31m \u001b[0;32mfor\u001b[0m \u001b[0mi\u001b[0m \u001b[0;32min\u001b[0m \u001b[0mrange\u001b[0m\u001b[0;34m(\u001b[0m\u001b[0;36m2\u001b[0m\u001b[0;34m,\u001b[0m \u001b[0mnum\u001b[0m\u001b[0;34m)\u001b[0m\u001b[0;34m:\u001b[0m\u001b[0;34m\u001b[0m\u001b[0;34m\u001b[0m\u001b[0m\n\u001b[0m\u001b[1;32m      3\u001b[0m   \u001b[0;32mif\u001b[0m \u001b[0;34m(\u001b[0m\u001b[0mnum\u001b[0m \u001b[0;34m%\u001b[0m \u001b[0mi\u001b[0m\u001b[0;34m)\u001b[0m \u001b[0;34m==\u001b[0m \u001b[0;36m0\u001b[0m\u001b[0;34m:\u001b[0m\u001b[0;34m\u001b[0m\u001b[0;34m\u001b[0m\u001b[0m\n\u001b[1;32m      4\u001b[0m     \u001b[0mprint\u001b[0m\u001b[0;34m(\u001b[0m\u001b[0mnum\u001b[0m\u001b[0;34m,\u001b[0m \u001b[0;34m\"this is a prime number\"\u001b[0m\u001b[0;34m)\u001b[0m\u001b[0;34m\u001b[0m\u001b[0;34m\u001b[0m\u001b[0m\n\u001b[1;32m      5\u001b[0m     \u001b[0;32mbreak\u001b[0m\u001b[0;34m\u001b[0m\u001b[0;34m\u001b[0m\u001b[0m\n",
            "\u001b[0;31mTypeError\u001b[0m: 'str' object cannot be interpreted as an integer"
          ]
        }
      ]
    },
    {
      "cell_type": "code",
      "metadata": {
        "id": "wN9QiiD5SXof"
      },
      "source": [
        ""
      ],
      "execution_count": null,
      "outputs": []
    }
  ]
}