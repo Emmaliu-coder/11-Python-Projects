{
  "nbformat": 4,
  "nbformat_minor": 0,
  "metadata": {
    "colab": {
      "name": "107207327劉映汝.ipynb",
      "provenance": [],
      "collapsed_sections": [],
      "toc_visible": true
    },
    "kernelspec": {
      "name": "python3",
      "display_name": "Python 3"
    },
    "accelerator": "GPU"
  },
  "cells": [
    {
      "cell_type": "markdown",
      "metadata": {
        "id": "Mo5ZyfEzro_i"
      },
      "source": [
        "### 2020.12.11 課堂筆記\r\n"
      ]
    },
    {
      "cell_type": "markdown",
      "metadata": {
        "id": "APb5OpzjoPnV"
      },
      "source": [
        "## 01 二分逼近法\r\n"
      ]
    },
    {
      "cell_type": "code",
      "metadata": {
        "id": "indx3Zqwk9KI"
      },
      "source": [
        "def f(x):\r\n",
        "  return x**3 - 2*x + 7\r\n",
        "f(1)"
      ],
      "execution_count": null,
      "outputs": []
    },
    {
      "cell_type": "code",
      "metadata": {
        "id": "NOWzdZHAof8U"
      },
      "source": [
        "def bisection_method(f,a,b,tol=10**(-8)):\r\n",
        "  if f(a) * f(b) > 0:\r\n",
        "    print('Please input another a & b!')\r\n",
        "    return\r\n",
        "  elif f(a) * f(b) == 0:\r\n",
        "    if f(a) == 0:\r\n",
        "      return a\r\n",
        "    else:\r\n",
        "      return b\r\n",
        "  else:\r\n",
        "    while abs(a-b) > tol : \r\n",
        "     c = (a + b)/2\r\n",
        "     if f(a)*f(c) > 0:\r\n",
        "       a = c\r\n",
        "     elif f(b)*f(c) > 0:\r\n",
        "       b = c\r\n",
        "     else:\r\n",
        "       return c\r\n",
        "       break\r\n",
        "    return (a+b)/2"
      ],
      "execution_count": null,
      "outputs": []
    },
    {
      "cell_type": "code",
      "metadata": {
        "id": "S1sumvHwq5Z0"
      },
      "source": [
        "c = bisection_method(f,1,-3)\r\n",
        "print(c)"
      ],
      "execution_count": null,
      "outputs": []
    },
    {
      "cell_type": "code",
      "metadata": {
        "id": "Tqe9oURmrIYX"
      },
      "source": [
        "f(c)"
      ],
      "execution_count": null,
      "outputs": []
    },
    {
      "cell_type": "code",
      "metadata": {
        "id": "2oH2q-s4rS-G"
      },
      "source": [
        "c1 = bisection_method(f,1,-3,10**(-12))\r\n",
        "print(c1)"
      ],
      "execution_count": null,
      "outputs": []
    },
    {
      "cell_type": "code",
      "metadata": {
        "id": "8IG24M8Ur79R"
      },
      "source": [
        "f(c1)"
      ],
      "execution_count": null,
      "outputs": []
    },
    {
      "cell_type": "markdown",
      "metadata": {
        "id": "A2F52wRUsj9s"
      },
      "source": [
        "## 02 數值微分:Forward Method\r\n"
      ]
    },
    {
      "cell_type": "code",
      "metadata": {
        "id": "xcFkja0HsCH7"
      },
      "source": [
        "def Df(f,x,h=10**(-8)):\r\n",
        "  return (f(x+h)-f(x))/h \r\n",
        "\r\n",
        "def Db(f,x,h=10**(-8)):\r\n",
        "  return (f(x)-f(x-h))/h \r\n",
        "\r\n",
        "def Dc(f,x,h=10**(-8)):\r\n",
        "  return (f(x+h)-f(x-h))/(2*h)    # /2h 要先括號起來"
      ],
      "execution_count": null,
      "outputs": []
    },
    {
      "cell_type": "code",
      "metadata": {
        "id": "vBFE6at7vEOw"
      },
      "source": [
        "p = Df(f,3)\r\n",
        "print(p)      # 3**3 - 2 = 25 (有極小誤差值)"
      ],
      "execution_count": null,
      "outputs": []
    },
    {
      "cell_type": "code",
      "metadata": {
        "id": "Zcc-RnE9uip1"
      },
      "source": [
        "p = Db(f,3)\r\n",
        "print(p) "
      ],
      "execution_count": null,
      "outputs": []
    },
    {
      "cell_type": "code",
      "metadata": {
        "id": "mpyKj9Y-wFcH"
      },
      "source": [
        "p = Dc(f,3)\r\n",
        "print(p) "
      ],
      "execution_count": null,
      "outputs": []
    },
    {
      "cell_type": "markdown",
      "metadata": {
        "id": "mX94dg26y46L"
      },
      "source": [
        "#### 繪圖"
      ]
    },
    {
      "cell_type": "code",
      "metadata": {
        "id": "OHj9Kk-cwHSw"
      },
      "source": [
        "%pylab inline"
      ],
      "execution_count": null,
      "outputs": []
    },
    {
      "cell_type": "code",
      "metadata": {
        "id": "j-6sV1lDzDng"
      },
      "source": [
        "t = linspace(-3,0,200)\r\n",
        "y = f(t)\r\n",
        "plot(t,y)\r\n",
        "y1 = array([0]*200) #製作200個[0]的陣列"
      ],
      "execution_count": null,
      "outputs": []
    },
    {
      "cell_type": "code",
      "metadata": {
        "id": "GSvr1MC8zR9f"
      },
      "source": [
        "y1"
      ],
      "execution_count": null,
      "outputs": []
    },
    {
      "cell_type": "markdown",
      "metadata": {
        "id": "y6cTqZv1z3m5"
      },
      "source": [
        "#### 交點"
      ]
    },
    {
      "cell_type": "code",
      "metadata": {
        "id": "K5jhwOU6zrbe"
      },
      "source": [
        "plot(t,y,'b',t,y1,'r') "
      ],
      "execution_count": null,
      "outputs": []
    },
    {
      "cell_type": "code",
      "metadata": {
        "id": "b5um5SvZz17C"
      },
      "source": [
        "plot(t,y,'b')\r\n",
        "plot(t,y1,'r')"
      ],
      "execution_count": null,
      "outputs": []
    },
    {
      "cell_type": "markdown",
      "metadata": {
        "id": "MV8LDRUZ1qck"
      },
      "source": [
        "#### Q: 數值微分上h(step size)越小越好?\r\n"
      ]
    },
    {
      "cell_type": "markdown",
      "metadata": {
        "id": "2IX5Lx933miJ"
      },
      "source": [
        "Forward Method"
      ]
    },
    {
      "cell_type": "code",
      "metadata": {
        "colab": {
          "base_uri": "https://localhost:8080/"
        },
        "id": "Wst4eYRt1qOJ",
        "outputId": "43b2e6d9-a2e0-497d-bdcc-03660427ee30"
      },
      "source": [
        "R = list()\r\n",
        "for i in range(1,17):\r\n",
        "  h = 10**(-i)\r\n",
        "  fp = Df(f,3,h)\r\n",
        "  R.append(abs(fp-25))\r\n",
        "print(R)"
      ],
      "execution_count": null,
      "outputs": [
        {
          "output_type": "stream",
          "text": [
            "[0.9100000000000463, 0.09009999999953777, 0.009000999997255121, 0.0009000100703815406, 9.000030444994422e-05, 9.003406375995837e-06, 8.60586624185089e-07, 6.311893230304122e-08, 2.0685092749772593e-06, 1.9832077668979764e-05, 0.0002643850166350603, 0.003998871397925541, 0.024422838032478467, 0.5795384873636067, 3.6837179271969944, 25.0]\n"
          ],
          "name": "stdout"
        }
      ]
    },
    {
      "cell_type": "code",
      "metadata": {
        "id": "1Tv7EFYE0UtR"
      },
      "source": [
        "len(R)"
      ],
      "execution_count": null,
      "outputs": []
    },
    {
      "cell_type": "code",
      "metadata": {
        "colab": {
          "base_uri": "https://localhost:8080/",
          "height": 282
        },
        "id": "XyAbSCGD2vMd",
        "outputId": "1917d63b-9efa-44d9-f2ce-a1a2b009589c"
      },
      "source": [
        "tt = array(range(1,17))\r\n",
        "plot(tt,array(R))"
      ],
      "execution_count": null,
      "outputs": [
        {
          "output_type": "execute_result",
          "data": {
            "text/plain": [
              "[<matplotlib.lines.Line2D at 0x7f1b1f022240>]"
            ]
          },
          "metadata": {
            "tags": []
          },
          "execution_count": 40
        },
        {
          "output_type": "display_data",
          "data": {
            "image/png": "[encoded data removed]",
            "text/plain": [
              "<Figure size 432x288 with 1 Axes>"
            ]
          },
          "metadata": {
            "tags": [],
            "needs_background": "light"
          }
        }
      ]
    },
    {
      "cell_type": "code",
      "metadata": {
        "colab": {
          "base_uri": "https://localhost:8080/",
          "height": 282
        },
        "id": "VgwF_aig25gO",
        "outputId": "68b5e909-33a9-4654-c6ad-7f4f0df346e8"
      },
      "source": [
        "plot(tt[:12],R[:12])"
      ],
      "execution_count": null,
      "outputs": [
        {
          "output_type": "execute_result",
          "data": {
            "text/plain": [
              "[<matplotlib.lines.Line2D at 0x7f1b1ed03710>]"
            ]
          },
          "metadata": {
            "tags": []
          },
          "execution_count": 41
        },
        {
          "output_type": "display_data",
          "data": {
            "image/png": "[encoded data removed]",
            "text/plain": [
              "<Figure size 432x288 with 1 Axes>"
            ]
          },
          "metadata": {
            "tags": [],
            "needs_background": "light"
          }
        }
      ]
    },
    {
      "cell_type": "code",
      "metadata": {
        "colab": {
          "base_uri": "https://localhost:8080/",
          "height": 282
        },
        "id": "b5fzFtGE3hry",
        "outputId": "ba6c9638-c58f-45cb-c109-91b142f53019"
      },
      "source": [
        "plot(tt[3:12],R[3:12])"
      ],
      "execution_count": null,
      "outputs": [
        {
          "output_type": "execute_result",
          "data": {
            "text/plain": [
              "[<matplotlib.lines.Line2D at 0x7f1b1ec0f2b0>]"
            ]
          },
          "metadata": {
            "tags": []
          },
          "execution_count": 42
        },
        {
          "output_type": "display_data",
          "data": {
            "image/png": "[encoded data removed]",
            "text/plain": [
              "<Figure size 432x288 with 1 Axes>"
            ]
          },
          "metadata": {
            "tags": [],
            "needs_background": "light"
          }
        }
      ]
    },
    {
      "cell_type": "code",
      "metadata": {
        "colab": {
          "base_uri": "https://localhost:8080/",
          "height": 282
        },
        "id": "LKXjoLwW93JN",
        "outputId": "4b678807-f671-4699-a991-a63813bd62a9"
      },
      "source": [
        "plot(tt[3:10],R[3:10])"
      ],
      "execution_count": null,
      "outputs": [
        {
          "output_type": "execute_result",
          "data": {
            "text/plain": [
              "[<matplotlib.lines.Line2D at 0x7f1b1ebf7a90>]"
            ]
          },
          "metadata": {
            "tags": []
          },
          "execution_count": 43
        },
        {
          "output_type": "display_data",
          "data": {
            "image/png": "[encoded data removed]",
            "text/plain": [
              "<Figure size 432x288 with 1 Axes>"
            ]
          },
          "metadata": {
            "tags": [],
            "needs_background": "light"
          }
        }
      ]
    },
    {
      "cell_type": "markdown",
      "metadata": {
        "id": "D1Mafi_l3q1E"
      },
      "source": [
        "Central Method"
      ]
    },
    {
      "cell_type": "code",
      "metadata": {
        "colab": {
          "base_uri": "https://localhost:8080/"
        },
        "id": "Eu4gb_h23kOm",
        "outputId": "99a7a4e8-0055-4dbc-9656-0d656ef9cd93"
      },
      "source": [
        "R1 = list()\r\n",
        "for i in range(1,17):\r\n",
        "  h = 10**(-i)\r\n",
        "  fp = Dc(f,3,h)\r\n",
        "  R1.append(abs(fp-25))\r\n",
        "print(R1)"
      ],
      "execution_count": null,
      "outputs": [
        {
          "output_type": "stream",
          "text": [
            "[0.010000000000029985, 9.999999956988859e-05, 9.9999688529806e-07, 1.00669694802491e-08, 2.970033108340431e-10, 4.382627594168298e-09, 2.759179551503621e-08, 6.311893230304122e-08, 2.0685092749772593e-06, 2.0685092749772593e-06, 0.0002643850166350603, 0.0022225145585252903, 0.024422838032478467, 0.5795384873636067, 3.6837179271969944, 25.0]\n"
          ],
          "name": "stdout"
        }
      ]
    },
    {
      "cell_type": "code",
      "metadata": {
        "colab": {
          "base_uri": "https://localhost:8080/"
        },
        "id": "cMi-enZl32i6",
        "outputId": "cdcb76b2-d720-477e-f584-f498556d5b88"
      },
      "source": [
        "len(R1)"
      ],
      "execution_count": null,
      "outputs": [
        {
          "output_type": "execute_result",
          "data": {
            "text/plain": [
              "16"
            ]
          },
          "metadata": {
            "tags": []
          },
          "execution_count": 26
        }
      ]
    },
    {
      "cell_type": "code",
      "metadata": {
        "colab": {
          "base_uri": "https://localhost:8080/",
          "height": 282
        },
        "id": "u7con-Ud39AS",
        "outputId": "374139d4-0a3a-4326-d941-b54cacc11b52"
      },
      "source": [
        "tt = array(range(1,17))\r\n",
        "plot(tt,array(R))"
      ],
      "execution_count": null,
      "outputs": [
        {
          "output_type": "execute_result",
          "data": {
            "text/plain": [
              "[<matplotlib.lines.Line2D at 0x7f1b1ede6080>]"
            ]
          },
          "metadata": {
            "tags": []
          },
          "execution_count": 32
        },
        {
          "output_type": "display_data",
          "data": {
            "image/png": "[encoded data removed]",
            "text/plain": [
              "<Figure size 432x288 with 1 Axes>"
            ]
          },
          "metadata": {
            "tags": [],
            "needs_background": "light"
          }
        }
      ]
    },
    {
      "cell_type": "code",
      "metadata": {
        "colab": {
          "base_uri": "https://localhost:8080/"
        },
        "id": "AnLqRSsi9oqj",
        "outputId": "964d2411-353b-4228-8ca3-3f64b2079142"
      },
      "source": [
        "R = list(R)\r\n",
        "min(R)"
      ],
      "execution_count": null,
      "outputs": [
        {
          "output_type": "execute_result",
          "data": {
            "text/plain": [
              "2.970033108340431e-10"
            ]
          },
          "metadata": {
            "tags": []
          },
          "execution_count": 34
        }
      ]
    },
    {
      "cell_type": "code",
      "metadata": {
        "colab": {
          "base_uri": "https://localhost:8080/"
        },
        "id": "eoVpSLMv9sUi",
        "outputId": "d8a84b70-830b-4229-cdec-b7c8ebba227b"
      },
      "source": [
        "R.index(min(R))"
      ],
      "execution_count": null,
      "outputs": [
        {
          "output_type": "execute_result",
          "data": {
            "text/plain": [
              "4"
            ]
          },
          "metadata": {
            "tags": []
          },
          "execution_count": 35
        }
      ]
    },
    {
      "cell_type": "code",
      "metadata": {
        "colab": {
          "base_uri": "https://localhost:8080/"
        },
        "id": "FR03v2ac9twz",
        "outputId": "3b1d2fea-0c2b-41f1-89eb-2c97f9b20a28"
      },
      "source": [
        "tt[4]"
      ],
      "execution_count": null,
      "outputs": [
        {
          "output_type": "execute_result",
          "data": {
            "text/plain": [
              "5"
            ]
          },
          "metadata": {
            "tags": []
          },
          "execution_count": 36
        }
      ]
    },
    {
      "cell_type": "code",
      "metadata": {
        "colab": {
          "base_uri": "https://localhost:8080/",
          "height": 298
        },
        "id": "9tgv7Spd4IKY",
        "outputId": "f682c5b3-e054-413f-dc2e-0e6ecd746d2d"
      },
      "source": [
        "plot(tt[:11],array(R[:11]),'b',tt[:11],array(R1[:11]),'r')"
      ],
      "execution_count": null,
      "outputs": [
        {
          "output_type": "execute_result",
          "data": {
            "text/plain": [
              "[<matplotlib.lines.Line2D at 0x7f1b1ed44390>,\n",
              " <matplotlib.lines.Line2D at 0x7f1b1ed444a8>]"
            ]
          },
          "metadata": {
            "tags": []
          },
          "execution_count": 37
        },
        {
          "output_type": "display_data",
          "data": {
            "image/png": "[encoded data removed]",
            "text/plain": [
              "<Figure size 432x288 with 1 Axes>"
            ]
          },
          "metadata": {
            "tags": [],
            "needs_background": "light"
          }
        }
      ]
    },
    {
      "cell_type": "markdown",
      "metadata": {
        "id": "6e9pUCwb8CVz"
      },
      "source": [
        "## 03 基因演算法"
      ]
    },
    {
      "cell_type": "code",
      "metadata": {
        "id": "bkof_HUY8ENi"
      },
      "source": [
        "def Gene_method(f,x=3,tol=10**(-12)):\r\n",
        "  while abs(f(x))>tol:\r\n",
        "    x1 = x+0.1*randn()\r\n",
        "    if abs(f(x))>abs(f(x1)):\r\n",
        "      x = x1\r\n",
        "  return x "
      ],
      "execution_count": null,
      "outputs": []
    },
    {
      "cell_type": "code",
      "metadata": {
        "colab": {
          "base_uri": "https://localhost:8080/"
        },
        "id": "JvSkz3rR9S59",
        "outputId": "81add243-30a5-476b-d9b0-0e407157b750"
      },
      "source": [
        "x3 = Gene_method(f,-2,10**(-5))\r\n",
        "print(x3)"
      ],
      "execution_count": null,
      "outputs": [
        {
          "output_type": "stream",
          "text": [
            "-2.258259266779382\n"
          ],
          "name": "stdout"
        }
      ]
    },
    {
      "cell_type": "code",
      "metadata": {
        "colab": {
          "base_uri": "https://localhost:8080/"
        },
        "id": "1XmphSQG9UDM",
        "outputId": "c303d8b7-3c99-42b1-f91a-726fa3806c24"
      },
      "source": [
        "f(x3)"
      ],
      "execution_count": null,
      "outputs": [
        {
          "output_type": "execute_result",
          "data": {
            "text/plain": [
              "-5.098605208253559e-06"
            ]
          },
          "metadata": {
            "tags": []
          },
          "execution_count": 30
        }
      ]
    }
  ]
}